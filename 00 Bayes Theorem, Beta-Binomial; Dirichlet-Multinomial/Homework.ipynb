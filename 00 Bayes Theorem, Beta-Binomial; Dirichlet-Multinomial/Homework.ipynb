{
 "cells": [
  {
   "attachments": {},
   "cell_type": "markdown",
   "metadata": {},
   "source": [
    "Q1: What proportion of students who answer this question quickly will pass the class?\n",
    "Assume the probability of passing the class is 0.9.\n",
    "Assume the probability of answering this question quickly is 0.6 if you'll pass the class,\n",
    "while the probability drops to 0.3 if you'll not pass the class. "
   ]
  },
  {
   "attachments": {},
   "cell_type": "markdown",
   "metadata": {},
   "source": [
    "We want to find the probability that a student will pass the class given that they answer this question quickly, i.e., \\(P(\\text{Pass} \\mid \\text{Quick})\\).\n",
    "\n",
    "### Given\n",
    "- \\(P(\\text{Pass}) = 0.9\\)\n",
    "- \\(P(\\text{Not Pass}) = 1 - 0.9 = 0.1\\)\n",
    "- \\(P(\\text{Quick} \\mid \\text{Pass}) = 0.6\\)\n",
    "- \\(P(\\text{Quick} \\mid \\text{Not Pass}) = 0.3\\)\n",
    "\n",
    "### By Bayes’ Theorem\n",
    "\\[\n",
    "P(\\text{Pass} \\mid \\text{Quick}) \\;=\\; \n",
    "  \\frac{ P(\\text{Quick} \\mid \\text{Pass}) \\times P(\\text{Pass}) }\n",
    "       { P(\\text{Quick} \\mid \\text{Pass}) \\times P(\\text{Pass})\n",
    "       \\;+\\; P(\\text{Quick} \\mid \\text{Not Pass}) \\times P(\\text{Not Pass}) }.\n",
    "\\]\n",
    "\n",
    "### Plug in the numbers:\n",
    "\\[\n",
    "\\begin{aligned}\n",
    "P(\\text{Pass} \\mid \\text{Quick})\n",
    "&= \\frac{(0.6)(0.9)}{(0.6)(0.9) + (0.3)(0.1)} \\\\\n",
    "&= \\frac{0.54}{0.54 + 0.03} \\\\\n",
    "&= \\frac{0.54}{0.57} \\\\\n",
    "&\\approx 0.9474 \\quad (\\text{about } 94.74\\%).\n",
    "\\end{aligned}\n",
    "\\]\n",
    "\n",
    "**Answer: Approximately 94.74% of the students who answer the question quickly will pass the class.**"
   ]
  },
  {
   "attachments": {},
   "cell_type": "markdown",
   "metadata": {},
   "source": [
    "Q2: \n",
    "\\begin{align*}\n",
    "\\text{Likelihood} && p(x|\\theta,n) &={} \\texttt{Multinomial}\\\\\\\\\n",
    "\\text{Prior} && p(\\theta|\\boldsymbol{\\alpha}) &={} \\texttt{Dirichlet} \\\\ \n",
    "\\text{Posterior} && p(\\theta|x,n,\\boldsymbol{\\alpha}) &={} \\overset{\\text{Bayes Theorem}}{\\frac{p(x|\\theta)p(\\theta)}{p(x)}} = \\; \\texttt{What?}\\\\\n",
    "&&& \\quad\\quad\\quad\\quad\\quad\\; = \\; \\texttt{What distribution?}\\\\\n",
    "&&& \\quad\\quad\\quad\\quad\\quad\\quad\\;\\;\\, \\texttt{With what parameterization?}\\\\\n",
    "\\end{align*}\n",
    "\n",
    "### _The posterior is always proportional to the joint_\n",
    "\n",
    "$$\\large p(\\theta|x) = (1/c)\\times p(\\theta,x) \\propto{} p(\\theta,x)$$\n",
    "\n",
    "**_and the posterior is always a proper distribution if the prior is_**"
   ]
  },
  {
   "attachments": {},
   "cell_type": "markdown",
   "metadata": {},
   "source": [
    "When you use a Dirichlet prior together with a multinomial likelihood, the Dirichlet is a *conjugate prior* for the multinomial.  Conjugacy means that updating with observed counts \\(x\\) yields another Dirichlet distribution with “shifted” parameters.  Concretely:\n",
    "\n",
    "1. **Prior**  \n",
    "   \\[\n",
    "   p(\\boldsymbol{\\theta} \\mid \\boldsymbol{\\alpha}) \n",
    "   \\;=\\;\n",
    "   \\mathrm{Dirichlet}\\bigl(\\alpha_1,\\alpha_2,\\dots,\\alpha_K\\bigr)\n",
    "   \\]\n",
    "   Here, \\(\\boldsymbol{\\alpha} = (\\alpha_1,\\ldots,\\alpha_K)\\) are the Dirichlet hyperparameters, and \\(\\boldsymbol{\\theta}\\) is the vector of category probabilities for the multinomial.\n",
    "\n",
    "2. **Likelihood (Multinomial)**  \n",
    "   \\[\n",
    "   p(\\mathbf{x}\\mid \\boldsymbol{\\theta},n) \n",
    "   \\;=\\;\n",
    "   \\mathrm{Multinomial}(\\mathbf{x} \\mid n,\\boldsymbol{\\theta}),\n",
    "   \\]\n",
    "   where \\(\\mathbf{x} = (x_1,x_2,\\dots,x_K)\\) are the observed counts of each of the \\(K\\) categories, and \\(n = \\sum_j x_j\\) is the total count.\n",
    "\n",
    "3. **Posterior**  \n",
    "   By Bayes’ theorem and the property of conjugacy, the posterior distribution is again a Dirichlet, with parameters\n",
    "   \\[\n",
    "   \\boldsymbol{\\alpha}' \\;=\\;\n",
    "   (\\alpha_1 + x_1,\\; \\alpha_2 + x_2,\\; \\dots,\\; \\alpha_K + x_K).\n",
    "   \\]\n",
    "   Thus\n",
    "   \\[\n",
    "   p(\\boldsymbol{\\theta}\\mid \\mathbf{x},n,\\boldsymbol{\\alpha})\n",
    "   \\;=\\;\n",
    "   \\mathrm{Dirichlet}\\!\\bigl(\\alpha_1 + x_1,\\;\\alpha_2 + x_2,\\;\\dots,\\;\\alpha_K + x_K\\bigr).\n",
    "   \\]\n",
    "\n",
    "### Summary\n",
    "\n",
    "- **What distribution?**  A Dirichlet.  \n",
    "- **Parameterization?**  The usual “concentration” or “alpha” parameters get incremented by the observed counts.  So if the prior was \\(\\mathrm{Dirichlet}(\\alpha_1,\\dots,\\alpha_K)\\), the posterior is \\(\\mathrm{Dirichlet}(\\alpha_1 + x_1,\\dots,\\alpha_K + x_K)\\)."
   ]
  },
  {
   "attachments": {},
   "cell_type": "markdown",
   "metadata": {},
   "source": [
    "Q3: Create a sample from a three category multinomial distribution and visualize the multinomial distribution and the multinomial sample; then, visualize the simplex Dirichlet distribution of the prior and the posterior using a ternary plot."
   ]
  },
  {
   "cell_type": "code",
   "execution_count": 1,
   "metadata": {},
   "outputs": [
    {
     "ename": "ModuleNotFoundError",
     "evalue": "No module named 'plotly'",
     "output_type": "error",
     "traceback": [
      "\u001b[0;31m---------------------------------------------------------------------------\u001b[0m",
      "\u001b[0;31mModuleNotFoundError\u001b[0m                       Traceback (most recent call last)",
      "Cell \u001b[0;32mIn[1], line 3\u001b[0m\n\u001b[1;32m      1\u001b[0m \u001b[39mimport\u001b[39;00m \u001b[39mnumpy\u001b[39;00m \u001b[39mas\u001b[39;00m \u001b[39mnp\u001b[39;00m\n\u001b[1;32m      2\u001b[0m \u001b[39mfrom\u001b[39;00m \u001b[39mscipy\u001b[39;00m \u001b[39mimport\u001b[39;00m stats\n\u001b[0;32m----> 3\u001b[0m \u001b[39mimport\u001b[39;00m \u001b[39mplotly\u001b[39;00m\u001b[39m.\u001b[39;00m\u001b[39mfigure_factory\u001b[39;00m \u001b[39mas\u001b[39;00m \u001b[39mff\u001b[39;00m\n\u001b[1;32m      5\u001b[0m \u001b[39m# ------------------------------------------------------------------------------\u001b[39;00m\n\u001b[1;32m      6\u001b[0m \u001b[39m# Create a structured grid over the 3D simplex (p1 + p2 + p3 = 1)\u001b[39;00m\n\u001b[1;32m      7\u001b[0m \u001b[39m# ------------------------------------------------------------------------------\u001b[39;00m\n\u001b[1;32m      8\u001b[0m num_points \u001b[39m=\u001b[39m \u001b[39m100\u001b[39m\n",
      "\u001b[0;31mModuleNotFoundError\u001b[0m: No module named 'plotly'"
     ]
    }
   ],
   "source": [
    "import numpy as np\n",
    "from scipy import stats\n",
    "import plotly.figure_factory as ff\n",
    "\n",
    "# ------------------------------------------------------------------------------\n",
    "# Create a structured grid over the 3D simplex (p1 + p2 + p3 = 1)\n",
    "# ------------------------------------------------------------------------------\n",
    "num_points = 100\n",
    "p1_lin = np.linspace(0, 1, num_points)       # Step from 0 to 1\n",
    "p2_lin = 1 - p1_lin.copy()                  # Tied to p1 so p1+p2 <= 1\n",
    "p_     = np.linspace(0, 1, num_points)      # A second dimension for the \"triangle\"\n",
    "\n",
    "# Create a 2D mesh, then flatten it\n",
    "p1 = (p1_lin[np.newaxis, :] * p_[:, np.newaxis]).flatten() \n",
    "p2 = (p2_lin[np.newaxis, :] * p_[:, np.newaxis]).flatten()\n",
    "p3 = 1 - p1 - p2                             # p3 so that p1 + p2 + p3 = 1\n",
    "p  = np.c_[p1, p2, p3]                       # Shape: (num_points^2, 3)\n",
    "\n",
    "# ------------------------------------------------------------------------------\n",
    "# Define a slightly \"non-flat\" Dirichlet prior, compute PDF on the grid\n",
    "# ------------------------------------------------------------------------------\n",
    "alpha_prior = np.array([1.1, 1.1, 1.1])      # Avoid a perfectly flat distribution\n",
    "dirichlet_prior = stats.dirichlet(alpha=alpha_prior)\n",
    "dirichlet_prior_densities = dirichlet_prior.pdf(p.T)\n",
    "\n",
    "# ------------------------------------------------------------------------------\n",
    "# Create the ternary contour figure\n",
    "# ------------------------------------------------------------------------------\n",
    "fig = ff.create_ternary_contour(\n",
    "    p.T,                               # Array of shape (3, N)\n",
    "    dirichlet_prior_densities,         # PDF values, shape (N,)\n",
    "    pole_labels=[\"p1\", \"p2\", \"p3\"],    # Labels for corners of the simplex\n",
    "    interp_mode=\"cartesian\",           # Must be 'cartesian' for contouring\n",
    "    showscale=True                     # Add color scale\n",
    ")\n",
    "\n",
    "fig.update_layout(\n",
    "    title=\"Ternary Contour Plot of Dirichlet(1.1, 1.1, 1.1)\",\n",
    "    width=700,\n",
    "    height=600\n",
    ")\n",
    "\n",
    "# Show (use 'png' to inline in some environments)\n",
    "fig.show(\"png\")\n",
    "\n"
   ]
  }
 ],
 "metadata": {
  "kernelspec": {
   "display_name": "Python 3",
   "language": "python",
   "name": "python3"
  },
  "language_info": {
   "codemirror_mode": {
    "name": "ipython",
    "version": 3
   },
   "file_extension": ".py",
   "mimetype": "text/x-python",
   "name": "python",
   "nbconvert_exporter": "python",
   "pygments_lexer": "ipython3",
   "version": "3.10.0"
  },
  "orig_nbformat": 4,
  "vscode": {
   "interpreter": {
    "hash": "7e1998ff7f8aa20ada591c520b972326324e5ea05489af9e422744c7c09f6dad"
   }
  }
 },
 "nbformat": 4,
 "nbformat_minor": 2
}
